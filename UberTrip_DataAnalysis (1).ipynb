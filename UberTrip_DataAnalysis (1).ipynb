{
  "nbformat": 4,
  "nbformat_minor": 0,
  "metadata": {
    "colab": {
      "name": "UberTrip_DataAnalysis.ipynb",
      "provenance": []
    },
    "kernelspec": {
      "name": "python3",
      "display_name": "Python 3"
    },
    "language_info": {
      "name": "python"
    }
  },
  "cells": [
    {
      "cell_type": "markdown",
      "metadata": {
        "id": "j7-AVOLRrTgf"
      },
      "source": [
        "**NAME - ANJALINA TIRKEY** EMAIL - anjalinatirkey05@gmail.com\n"
      ]
    },
    {
      "cell_type": "markdown",
      "metadata": {
        "id": "Qst-39pEn892"
      },
      "source": [
        "**Load the necessary libraries**"
      ]
    },
    {
      "cell_type": "code",
      "metadata": {
        "id": "UGPFUFF6rjMn"
      },
      "source": [
        "import pandas as pd\n",
        "import numpy as np\n",
        "import seaborn as sns\n",
        "import matplotlib\n",
        "from matplotlib import pyplot as plt"
      ],
      "execution_count": null,
      "outputs": []
    },
    {
      "cell_type": "markdown",
      "metadata": {
        "id": "uUEuTcx-rwZP"
      },
      "source": [
        "**Import and load the dataset with a name uber**"
      ]
    },
    {
      "cell_type": "code",
      "metadata": {
        "id": "-kQEdOzDsVtI"
      },
      "source": [
        "uber = pd.read_csv(\"/content/uberdrive-1.csv\")"
      ],
      "execution_count": null,
      "outputs": []
    },
    {
      "cell_type": "markdown",
      "metadata": {
        "id": "vt5k-Cn3sqXc"
      },
      "source": [
        " **1. Show the first 10 records of the dataset**"
      ]
    },
    {
      "cell_type": "code",
      "metadata": {
        "colab": {
          "base_uri": "https://localhost:8080/",
          "height": 529
        },
        "id": "ZqEka4Iss0sG",
        "outputId": "ade3daef-dfb5-4b95-ee52-f2f2220562dc"
      },
      "source": [
        "uber.head(10)"
      ],
      "execution_count": null,
      "outputs": [
        {
          "output_type": "execute_result",
          "data": {
            "text/html": [
              "<div>\n",
              "<style scoped>\n",
              "    .dataframe tbody tr th:only-of-type {\n",
              "        vertical-align: middle;\n",
              "    }\n",
              "\n",
              "    .dataframe tbody tr th {\n",
              "        vertical-align: top;\n",
              "    }\n",
              "\n",
              "    .dataframe thead th {\n",
              "        text-align: right;\n",
              "    }\n",
              "</style>\n",
              "<table border=\"1\" class=\"dataframe\">\n",
              "  <thead>\n",
              "    <tr style=\"text-align: right;\">\n",
              "      <th></th>\n",
              "      <th>START_DATE</th>\n",
              "      <th>END_DATE</th>\n",
              "      <th>CATEGORY</th>\n",
              "      <th>START</th>\n",
              "      <th>STOP</th>\n",
              "      <th>MILES</th>\n",
              "      <th>PURPOSE</th>\n",
              "      <th>CAB_TYPE</th>\n",
              "      <th>PRICE($)</th>\n",
              "      <th>PAYMENT</th>\n",
              "    </tr>\n",
              "  </thead>\n",
              "  <tbody>\n",
              "    <tr>\n",
              "      <th>0</th>\n",
              "      <td>2016-1-1 21:11</td>\n",
              "      <td>2016-1-1 21:17</td>\n",
              "      <td>Business</td>\n",
              "      <td>Fort Pierce</td>\n",
              "      <td>Fort Pierce</td>\n",
              "      <td>5.1</td>\n",
              "      <td>Meal/Entertain</td>\n",
              "      <td>UberX</td>\n",
              "      <td>5.0</td>\n",
              "      <td>Cash</td>\n",
              "    </tr>\n",
              "    <tr>\n",
              "      <th>1</th>\n",
              "      <td>2016-1-2 1:25</td>\n",
              "      <td>2016-1-2 1:37</td>\n",
              "      <td>Business</td>\n",
              "      <td>Fort Pierce</td>\n",
              "      <td>Fort Pierce</td>\n",
              "      <td>5.0</td>\n",
              "      <td>NaN</td>\n",
              "      <td>Uber Comfort</td>\n",
              "      <td>11.0</td>\n",
              "      <td>Ola Money</td>\n",
              "    </tr>\n",
              "    <tr>\n",
              "      <th>2</th>\n",
              "      <td>2016-1-2 20:25</td>\n",
              "      <td>2016-1-2 20:38</td>\n",
              "      <td>Business</td>\n",
              "      <td>Fort Pierce</td>\n",
              "      <td>Fort Pierce</td>\n",
              "      <td>4.8</td>\n",
              "      <td>Errand/Supplies</td>\n",
              "      <td>Uber Comfort</td>\n",
              "      <td>7.0</td>\n",
              "      <td>Cash</td>\n",
              "    </tr>\n",
              "    <tr>\n",
              "      <th>3</th>\n",
              "      <td>2016-1-5 17:31</td>\n",
              "      <td>2016-1-5 17:45</td>\n",
              "      <td>Business</td>\n",
              "      <td>Fort Pierce</td>\n",
              "      <td>Fort Pierce</td>\n",
              "      <td>4.7</td>\n",
              "      <td>Meeting</td>\n",
              "      <td>UberAuto</td>\n",
              "      <td>26.0</td>\n",
              "      <td>Ola credit card</td>\n",
              "    </tr>\n",
              "    <tr>\n",
              "      <th>4</th>\n",
              "      <td>2016-1-6 14:42</td>\n",
              "      <td>2016-1-6 15:49</td>\n",
              "      <td>Business</td>\n",
              "      <td>Fort Pierce</td>\n",
              "      <td>West Palm Beach</td>\n",
              "      <td>63.7</td>\n",
              "      <td>Customer Visit</td>\n",
              "      <td>Go Intercity</td>\n",
              "      <td>9.0</td>\n",
              "      <td>Ola Money</td>\n",
              "    </tr>\n",
              "    <tr>\n",
              "      <th>5</th>\n",
              "      <td>2016-1-6 17:15</td>\n",
              "      <td>2016-1-6 17:19</td>\n",
              "      <td>Business</td>\n",
              "      <td>West Palm Beach</td>\n",
              "      <td>West Palm Beach</td>\n",
              "      <td>4.3</td>\n",
              "      <td>Meal/Entertain</td>\n",
              "      <td>UberX</td>\n",
              "      <td>16.5</td>\n",
              "      <td>Cash</td>\n",
              "    </tr>\n",
              "    <tr>\n",
              "      <th>6</th>\n",
              "      <td>2016-1-6 17:30</td>\n",
              "      <td>2016-1-6 17:35</td>\n",
              "      <td>Business</td>\n",
              "      <td>West Palm Beach</td>\n",
              "      <td>Palm Beach</td>\n",
              "      <td>7.1</td>\n",
              "      <td>Meeting</td>\n",
              "      <td>Uber Black SUV</td>\n",
              "      <td>10.5</td>\n",
              "      <td>Cash</td>\n",
              "    </tr>\n",
              "    <tr>\n",
              "      <th>7</th>\n",
              "      <td>2016-1-7 13:27</td>\n",
              "      <td>2016-1-7 13:33</td>\n",
              "      <td>Business</td>\n",
              "      <td>Cary</td>\n",
              "      <td>Cary</td>\n",
              "      <td>0.8</td>\n",
              "      <td>Meeting</td>\n",
              "      <td>Uber Black SUV</td>\n",
              "      <td>16.5</td>\n",
              "      <td>Cash</td>\n",
              "    </tr>\n",
              "    <tr>\n",
              "      <th>8</th>\n",
              "      <td>2016-1-10 8:05</td>\n",
              "      <td>2016-1-10 8:25</td>\n",
              "      <td>Business</td>\n",
              "      <td>Cary</td>\n",
              "      <td>Morrisville</td>\n",
              "      <td>8.3</td>\n",
              "      <td>Meeting</td>\n",
              "      <td>Uber Green</td>\n",
              "      <td>3.0</td>\n",
              "      <td>Ola credit card</td>\n",
              "    </tr>\n",
              "    <tr>\n",
              "      <th>9</th>\n",
              "      <td>2016-1-10 12:17</td>\n",
              "      <td>2016-1-10 12:44</td>\n",
              "      <td>Business</td>\n",
              "      <td>Jamaica</td>\n",
              "      <td>New York</td>\n",
              "      <td>16.5</td>\n",
              "      <td>Customer Visit</td>\n",
              "      <td>Uber Pool</td>\n",
              "      <td>27.5</td>\n",
              "      <td>Cash</td>\n",
              "    </tr>\n",
              "  </tbody>\n",
              "</table>\n",
              "</div>"
            ],
            "text/plain": [
              "        START_DATE         END_DATE  ... PRICE($)          PAYMENT\n",
              "0   2016-1-1 21:11   2016-1-1 21:17  ...      5.0             Cash\n",
              "1    2016-1-2 1:25    2016-1-2 1:37  ...     11.0        Ola Money\n",
              "2   2016-1-2 20:25   2016-1-2 20:38  ...      7.0             Cash\n",
              "3   2016-1-5 17:31   2016-1-5 17:45  ...     26.0  Ola credit card\n",
              "4   2016-1-6 14:42   2016-1-6 15:49  ...      9.0        Ola Money\n",
              "5   2016-1-6 17:15   2016-1-6 17:19  ...     16.5             Cash\n",
              "6   2016-1-6 17:30   2016-1-6 17:35  ...     10.5             Cash\n",
              "7   2016-1-7 13:27   2016-1-7 13:33  ...     16.5             Cash\n",
              "8   2016-1-10 8:05   2016-1-10 8:25  ...      3.0  Ola credit card\n",
              "9  2016-1-10 12:17  2016-1-10 12:44  ...     27.5             Cash\n",
              "\n",
              "[10 rows x 10 columns]"
            ]
          },
          "metadata": {
            "tags": []
          },
          "execution_count": 106
        }
      ]
    },
    {
      "cell_type": "markdown",
      "metadata": {
        "id": "XS9vvDpjETNf"
      },
      "source": [
        " **2. Show the last 10 records of the dataset**"
      ]
    },
    {
      "cell_type": "code",
      "metadata": {
        "colab": {
          "base_uri": "https://localhost:8080/",
          "height": 563
        },
        "id": "6xmUBT96Ec5l",
        "outputId": "830bc6db-a332-414d-e992-998a9d36262e"
      },
      "source": [
        "uber.tail(10)"
      ],
      "execution_count": null,
      "outputs": [
        {
          "output_type": "execute_result",
          "data": {
            "text/html": [
              "<div>\n",
              "<style scoped>\n",
              "    .dataframe tbody tr th:only-of-type {\n",
              "        vertical-align: middle;\n",
              "    }\n",
              "\n",
              "    .dataframe tbody tr th {\n",
              "        vertical-align: top;\n",
              "    }\n",
              "\n",
              "    .dataframe thead th {\n",
              "        text-align: right;\n",
              "    }\n",
              "</style>\n",
              "<table border=\"1\" class=\"dataframe\">\n",
              "  <thead>\n",
              "    <tr style=\"text-align: right;\">\n",
              "      <th></th>\n",
              "      <th>START_DATE</th>\n",
              "      <th>END_DATE</th>\n",
              "      <th>CATEGORY</th>\n",
              "      <th>START</th>\n",
              "      <th>STOP</th>\n",
              "      <th>MILES</th>\n",
              "      <th>PURPOSE</th>\n",
              "      <th>CAB_TYPE</th>\n",
              "      <th>PRICE($)</th>\n",
              "      <th>PAYMENT</th>\n",
              "    </tr>\n",
              "  </thead>\n",
              "  <tbody>\n",
              "    <tr>\n",
              "      <th>1145</th>\n",
              "      <td>2016-12-30 10:15</td>\n",
              "      <td>2016-12-30 10:33</td>\n",
              "      <td>Business</td>\n",
              "      <td>Karachi</td>\n",
              "      <td>Karachi</td>\n",
              "      <td>2.8</td>\n",
              "      <td>Errand/Supplies</td>\n",
              "      <td>Uber Black SUV</td>\n",
              "      <td>13.0</td>\n",
              "      <td>Cash</td>\n",
              "    </tr>\n",
              "    <tr>\n",
              "      <th>1146</th>\n",
              "      <td>2016-12-30 11:31</td>\n",
              "      <td>2016-12-30 11:56</td>\n",
              "      <td>Business</td>\n",
              "      <td>Karachi</td>\n",
              "      <td>Karachi</td>\n",
              "      <td>2.9</td>\n",
              "      <td>Errand/Supplies</td>\n",
              "      <td>UberXL</td>\n",
              "      <td>NaN</td>\n",
              "      <td>Ola credit card</td>\n",
              "    </tr>\n",
              "    <tr>\n",
              "      <th>1147</th>\n",
              "      <td>2016-12-30 15:41</td>\n",
              "      <td>2016-12-30 16:03</td>\n",
              "      <td>Business</td>\n",
              "      <td>Karachi</td>\n",
              "      <td>Karachi</td>\n",
              "      <td>4.6</td>\n",
              "      <td>Errand/Supplies</td>\n",
              "      <td>Uber Black SUV</td>\n",
              "      <td>23.5</td>\n",
              "      <td>Ola Money</td>\n",
              "    </tr>\n",
              "    <tr>\n",
              "      <th>1148</th>\n",
              "      <td>2016-12-30 16:45</td>\n",
              "      <td>2016-12-30 17:08</td>\n",
              "      <td>Business</td>\n",
              "      <td>Karachi</td>\n",
              "      <td>Karachi</td>\n",
              "      <td>4.6</td>\n",
              "      <td>Meeting</td>\n",
              "      <td>UberGo</td>\n",
              "      <td>13.0</td>\n",
              "      <td>Cash</td>\n",
              "    </tr>\n",
              "    <tr>\n",
              "      <th>1149</th>\n",
              "      <td>2016-12-30 23:06</td>\n",
              "      <td>2016-12-30 23:10</td>\n",
              "      <td>Business</td>\n",
              "      <td>Karachi</td>\n",
              "      <td>Karachi</td>\n",
              "      <td>0.8</td>\n",
              "      <td>Customer Visit</td>\n",
              "      <td>UberX</td>\n",
              "      <td>15.0</td>\n",
              "      <td>Cash</td>\n",
              "    </tr>\n",
              "    <tr>\n",
              "      <th>1150</th>\n",
              "      <td>2016-12-31 1:07</td>\n",
              "      <td>2016-12-31 1:14</td>\n",
              "      <td>Business</td>\n",
              "      <td>Karachi</td>\n",
              "      <td>Karachi</td>\n",
              "      <td>0.7</td>\n",
              "      <td>Meeting</td>\n",
              "      <td>Uber Comfort</td>\n",
              "      <td>6.5</td>\n",
              "      <td>Cash</td>\n",
              "    </tr>\n",
              "    <tr>\n",
              "      <th>1151</th>\n",
              "      <td>2016-12-31 13:24</td>\n",
              "      <td>2016-12-31 13:42</td>\n",
              "      <td>Business</td>\n",
              "      <td>Karachi</td>\n",
              "      <td>Unknown Location</td>\n",
              "      <td>3.9</td>\n",
              "      <td>Temporary Site</td>\n",
              "      <td>Uber Taxi</td>\n",
              "      <td>27.5</td>\n",
              "      <td>Ola credit card</td>\n",
              "    </tr>\n",
              "    <tr>\n",
              "      <th>1152</th>\n",
              "      <td>2016-12-31 15:03</td>\n",
              "      <td>2016-12-31 15:38</td>\n",
              "      <td>Business</td>\n",
              "      <td>Unknown Location</td>\n",
              "      <td>Unknown Location</td>\n",
              "      <td>16.2</td>\n",
              "      <td>Meeting</td>\n",
              "      <td>Uber Black SUV</td>\n",
              "      <td>NaN</td>\n",
              "      <td>Cash</td>\n",
              "    </tr>\n",
              "    <tr>\n",
              "      <th>1153</th>\n",
              "      <td>2016-12-31 21:32</td>\n",
              "      <td>2016-12-31 21:50</td>\n",
              "      <td>Business</td>\n",
              "      <td>Katunayake</td>\n",
              "      <td>Gampaha</td>\n",
              "      <td>6.4</td>\n",
              "      <td>Temporary Site</td>\n",
              "      <td>UberXL</td>\n",
              "      <td>6.5</td>\n",
              "      <td>Ola Money</td>\n",
              "    </tr>\n",
              "    <tr>\n",
              "      <th>1154</th>\n",
              "      <td>2016-12-31 22:08</td>\n",
              "      <td>2016-12-31 23:51</td>\n",
              "      <td>Business</td>\n",
              "      <td>Gampaha</td>\n",
              "      <td>Ilukwatta</td>\n",
              "      <td>48.2</td>\n",
              "      <td>Temporary Site</td>\n",
              "      <td>Go Intercity</td>\n",
              "      <td>9.0</td>\n",
              "      <td>Cash</td>\n",
              "    </tr>\n",
              "  </tbody>\n",
              "</table>\n",
              "</div>"
            ],
            "text/plain": [
              "            START_DATE          END_DATE  ... PRICE($)          PAYMENT\n",
              "1145  2016-12-30 10:15  2016-12-30 10:33  ...     13.0             Cash\n",
              "1146  2016-12-30 11:31  2016-12-30 11:56  ...      NaN  Ola credit card\n",
              "1147  2016-12-30 15:41  2016-12-30 16:03  ...     23.5        Ola Money\n",
              "1148  2016-12-30 16:45  2016-12-30 17:08  ...     13.0             Cash\n",
              "1149  2016-12-30 23:06  2016-12-30 23:10  ...     15.0             Cash\n",
              "1150   2016-12-31 1:07   2016-12-31 1:14  ...      6.5             Cash\n",
              "1151  2016-12-31 13:24  2016-12-31 13:42  ...     27.5  Ola credit card\n",
              "1152  2016-12-31 15:03  2016-12-31 15:38  ...      NaN             Cash\n",
              "1153  2016-12-31 21:32  2016-12-31 21:50  ...      6.5        Ola Money\n",
              "1154  2016-12-31 22:08  2016-12-31 23:51  ...      9.0             Cash\n",
              "\n",
              "[10 rows x 10 columns]"
            ]
          },
          "metadata": {
            "tags": []
          },
          "execution_count": 107
        }
      ]
    },
    {
      "cell_type": "markdown",
      "metadata": {
        "id": "d9fQH4v8EoPG"
      },
      "source": [
        "**3. Show the dimension(number of rows and columns) of the dataset.**"
      ]
    },
    {
      "cell_type": "code",
      "metadata": {
        "colab": {
          "base_uri": "https://localhost:8080/"
        },
        "id": "xVrvSxpMEmLC",
        "outputId": "89dca940-dca7-4e14-f85b-90cf9139e5f1"
      },
      "source": [
        "uber.shape"
      ],
      "execution_count": null,
      "outputs": [
        {
          "output_type": "execute_result",
          "data": {
            "text/plain": [
              "(1155, 10)"
            ]
          },
          "metadata": {
            "tags": []
          },
          "execution_count": 27
        }
      ]
    },
    {
      "cell_type": "markdown",
      "metadata": {
        "id": "RUf9DEYPE2Lh"
      },
      "source": [
        "**4.Show the size (Total number of elements) of the dataset.**"
      ]
    },
    {
      "cell_type": "code",
      "metadata": {
        "colab": {
          "base_uri": "https://localhost:8080/"
        },
        "id": "U495gmPbE2p5",
        "outputId": "9e903369-8c59-4397-959a-c231a2ec42b3"
      },
      "source": [
        "uber.size"
      ],
      "execution_count": null,
      "outputs": [
        {
          "output_type": "execute_result",
          "data": {
            "text/plain": [
              "11550"
            ]
          },
          "metadata": {
            "tags": []
          },
          "execution_count": 28
        }
      ]
    },
    {
      "cell_type": "markdown",
      "metadata": {
        "id": "6QUw72OTE2_O"
      },
      "source": [
        "**5.Display the information about all the variables of the dataset.**"
      ]
    },
    {
      "cell_type": "code",
      "metadata": {
        "colab": {
          "base_uri": "https://localhost:8080/"
        },
        "id": "KEPfXWLHE3Uu",
        "outputId": "fa09926d-72ce-4e22-9573-8e781f9a089c"
      },
      "source": [
        "uber.info"
      ],
      "execution_count": null,
      "outputs": [
        {
          "output_type": "execute_result",
          "data": {
            "text/plain": [
              "<bound method DataFrame.info of             START_DATE          END_DATE  ... PRICE($)          PAYMENT\n",
              "0       2016-1-1 21:11    2016-1-1 21:17  ...      5.0             Cash\n",
              "1        2016-1-2 1:25     2016-1-2 1:37  ...     11.0        Ola Money\n",
              "2       2016-1-2 20:25    2016-1-2 20:38  ...      7.0             Cash\n",
              "3       2016-1-5 17:31    2016-1-5 17:45  ...     26.0  Ola credit card\n",
              "4       2016-1-6 14:42    2016-1-6 15:49  ...      9.0        Ola Money\n",
              "...                ...               ...  ...      ...              ...\n",
              "1150   2016-12-31 1:07   2016-12-31 1:14  ...      6.5             Cash\n",
              "1151  2016-12-31 13:24  2016-12-31 13:42  ...     27.5             Cash\n",
              "1152  2016-12-31 15:03  2016-12-31 15:38  ...      NaN             Cash\n",
              "1153  2016-12-31 21:32  2016-12-31 21:50  ...      6.5        Ola Money\n",
              "1154  2016-12-31 22:08  2016-12-31 23:51  ...      9.0             Cash\n",
              "\n",
              "[1155 rows x 10 columns]>"
            ]
          },
          "metadata": {
            "tags": []
          },
          "execution_count": 30
        }
      ]
    },
    {
      "cell_type": "markdown",
      "metadata": {
        "id": "ve5Ab939E3kW"
      },
      "source": [
        "**6. Checking for missing values.**"
      ]
    },
    {
      "cell_type": "code",
      "metadata": {
        "colab": {
          "base_uri": "https://localhost:8080/",
          "height": 419
        },
        "id": "O7KMH2zWE31a",
        "outputId": "4833ed67-31ef-430a-fe7e-1bbbecf5f8b5"
      },
      "source": [
        "uber.isnull()\n",
        "#if there is any value then it will return 'False' and if there is no value then it will return 'True'\n",
        "#isnull method is used to return the boolean values (true or false) of the entire dataset."
      ],
      "execution_count": null,
      "outputs": [
        {
          "output_type": "execute_result",
          "data": {
            "text/html": [
              "<div>\n",
              "<style scoped>\n",
              "    .dataframe tbody tr th:only-of-type {\n",
              "        vertical-align: middle;\n",
              "    }\n",
              "\n",
              "    .dataframe tbody tr th {\n",
              "        vertical-align: top;\n",
              "    }\n",
              "\n",
              "    .dataframe thead th {\n",
              "        text-align: right;\n",
              "    }\n",
              "</style>\n",
              "<table border=\"1\" class=\"dataframe\">\n",
              "  <thead>\n",
              "    <tr style=\"text-align: right;\">\n",
              "      <th></th>\n",
              "      <th>START_DATE</th>\n",
              "      <th>END_DATE</th>\n",
              "      <th>CATEGORY</th>\n",
              "      <th>START</th>\n",
              "      <th>STOP</th>\n",
              "      <th>MILES</th>\n",
              "      <th>PURPOSE</th>\n",
              "      <th>CAB_TYPE</th>\n",
              "      <th>PRICE($)</th>\n",
              "      <th>PAYMENT</th>\n",
              "    </tr>\n",
              "  </thead>\n",
              "  <tbody>\n",
              "    <tr>\n",
              "      <th>0</th>\n",
              "      <td>False</td>\n",
              "      <td>False</td>\n",
              "      <td>False</td>\n",
              "      <td>False</td>\n",
              "      <td>False</td>\n",
              "      <td>False</td>\n",
              "      <td>False</td>\n",
              "      <td>False</td>\n",
              "      <td>False</td>\n",
              "      <td>False</td>\n",
              "    </tr>\n",
              "    <tr>\n",
              "      <th>1</th>\n",
              "      <td>False</td>\n",
              "      <td>False</td>\n",
              "      <td>False</td>\n",
              "      <td>False</td>\n",
              "      <td>False</td>\n",
              "      <td>False</td>\n",
              "      <td>True</td>\n",
              "      <td>False</td>\n",
              "      <td>False</td>\n",
              "      <td>False</td>\n",
              "    </tr>\n",
              "    <tr>\n",
              "      <th>2</th>\n",
              "      <td>False</td>\n",
              "      <td>False</td>\n",
              "      <td>False</td>\n",
              "      <td>False</td>\n",
              "      <td>False</td>\n",
              "      <td>False</td>\n",
              "      <td>False</td>\n",
              "      <td>False</td>\n",
              "      <td>False</td>\n",
              "      <td>False</td>\n",
              "    </tr>\n",
              "    <tr>\n",
              "      <th>3</th>\n",
              "      <td>False</td>\n",
              "      <td>False</td>\n",
              "      <td>False</td>\n",
              "      <td>False</td>\n",
              "      <td>False</td>\n",
              "      <td>False</td>\n",
              "      <td>False</td>\n",
              "      <td>False</td>\n",
              "      <td>False</td>\n",
              "      <td>False</td>\n",
              "    </tr>\n",
              "    <tr>\n",
              "      <th>4</th>\n",
              "      <td>False</td>\n",
              "      <td>False</td>\n",
              "      <td>False</td>\n",
              "      <td>False</td>\n",
              "      <td>False</td>\n",
              "      <td>False</td>\n",
              "      <td>False</td>\n",
              "      <td>False</td>\n",
              "      <td>False</td>\n",
              "      <td>False</td>\n",
              "    </tr>\n",
              "    <tr>\n",
              "      <th>...</th>\n",
              "      <td>...</td>\n",
              "      <td>...</td>\n",
              "      <td>...</td>\n",
              "      <td>...</td>\n",
              "      <td>...</td>\n",
              "      <td>...</td>\n",
              "      <td>...</td>\n",
              "      <td>...</td>\n",
              "      <td>...</td>\n",
              "      <td>...</td>\n",
              "    </tr>\n",
              "    <tr>\n",
              "      <th>1150</th>\n",
              "      <td>False</td>\n",
              "      <td>False</td>\n",
              "      <td>False</td>\n",
              "      <td>False</td>\n",
              "      <td>False</td>\n",
              "      <td>False</td>\n",
              "      <td>False</td>\n",
              "      <td>False</td>\n",
              "      <td>False</td>\n",
              "      <td>False</td>\n",
              "    </tr>\n",
              "    <tr>\n",
              "      <th>1151</th>\n",
              "      <td>False</td>\n",
              "      <td>False</td>\n",
              "      <td>False</td>\n",
              "      <td>False</td>\n",
              "      <td>False</td>\n",
              "      <td>False</td>\n",
              "      <td>False</td>\n",
              "      <td>False</td>\n",
              "      <td>False</td>\n",
              "      <td>False</td>\n",
              "    </tr>\n",
              "    <tr>\n",
              "      <th>1152</th>\n",
              "      <td>False</td>\n",
              "      <td>False</td>\n",
              "      <td>False</td>\n",
              "      <td>False</td>\n",
              "      <td>False</td>\n",
              "      <td>False</td>\n",
              "      <td>False</td>\n",
              "      <td>False</td>\n",
              "      <td>True</td>\n",
              "      <td>False</td>\n",
              "    </tr>\n",
              "    <tr>\n",
              "      <th>1153</th>\n",
              "      <td>False</td>\n",
              "      <td>False</td>\n",
              "      <td>False</td>\n",
              "      <td>False</td>\n",
              "      <td>False</td>\n",
              "      <td>False</td>\n",
              "      <td>False</td>\n",
              "      <td>False</td>\n",
              "      <td>False</td>\n",
              "      <td>False</td>\n",
              "    </tr>\n",
              "    <tr>\n",
              "      <th>1154</th>\n",
              "      <td>False</td>\n",
              "      <td>False</td>\n",
              "      <td>False</td>\n",
              "      <td>False</td>\n",
              "      <td>False</td>\n",
              "      <td>False</td>\n",
              "      <td>False</td>\n",
              "      <td>False</td>\n",
              "      <td>False</td>\n",
              "      <td>False</td>\n",
              "    </tr>\n",
              "  </tbody>\n",
              "</table>\n",
              "<p>1155 rows × 10 columns</p>\n",
              "</div>"
            ],
            "text/plain": [
              "      START_DATE  END_DATE  CATEGORY  ...  CAB_TYPE  PRICE($)  PAYMENT\n",
              "0          False     False     False  ...     False     False    False\n",
              "1          False     False     False  ...     False     False    False\n",
              "2          False     False     False  ...     False     False    False\n",
              "3          False     False     False  ...     False     False    False\n",
              "4          False     False     False  ...     False     False    False\n",
              "...          ...       ...       ...  ...       ...       ...      ...\n",
              "1150       False     False     False  ...     False     False    False\n",
              "1151       False     False     False  ...     False     False    False\n",
              "1152       False     False     False  ...     False      True    False\n",
              "1153       False     False     False  ...     False     False    False\n",
              "1154       False     False     False  ...     False     False    False\n",
              "\n",
              "[1155 rows x 10 columns]"
            ]
          },
          "metadata": {
            "tags": []
          },
          "execution_count": 31
        }
      ]
    },
    {
      "cell_type": "markdown",
      "metadata": {
        "id": "RG2JLYlgE4GM"
      },
      "source": [
        "**7.How many missing values are present?**"
      ]
    },
    {
      "cell_type": "code",
      "metadata": {
        "colab": {
          "base_uri": "https://localhost:8080/"
        },
        "id": "SyQn_rzaE4Wp",
        "outputId": "0daad360-6c37-440b-9c52-086d081d14f9"
      },
      "source": [
        "uber.isnull().sum()"
      ],
      "execution_count": null,
      "outputs": [
        {
          "output_type": "execute_result",
          "data": {
            "text/plain": [
              "START_DATE      0\n",
              "END_DATE        0\n",
              "CATEGORY        0\n",
              "START           0\n",
              "STOP            0\n",
              "MILES           0\n",
              "PURPOSE       502\n",
              "CAB_TYPE        0\n",
              "PRICE($)       96\n",
              "PAYMENT         0\n",
              "dtype: int64"
            ]
          },
          "metadata": {
            "tags": []
          },
          "execution_count": 32
        }
      ]
    },
    {
      "cell_type": "markdown",
      "metadata": {
        "id": "UtMHgb3zE5Ab"
      },
      "source": [
        "**8. Get the summary of the original data.**"
      ]
    },
    {
      "cell_type": "code",
      "metadata": {
        "colab": {
          "base_uri": "https://localhost:8080/",
          "height": 297
        },
        "id": "gCqokrRDE5dA",
        "outputId": "00bd53ff-7e53-49b0-f6bb-5ac9c5cd763a"
      },
      "source": [
        "uber.describe()"
      ],
      "execution_count": null,
      "outputs": [
        {
          "output_type": "execute_result",
          "data": {
            "text/html": [
              "<div>\n",
              "<style scoped>\n",
              "    .dataframe tbody tr th:only-of-type {\n",
              "        vertical-align: middle;\n",
              "    }\n",
              "\n",
              "    .dataframe tbody tr th {\n",
              "        vertical-align: top;\n",
              "    }\n",
              "\n",
              "    .dataframe thead th {\n",
              "        text-align: right;\n",
              "    }\n",
              "</style>\n",
              "<table border=\"1\" class=\"dataframe\">\n",
              "  <thead>\n",
              "    <tr style=\"text-align: right;\">\n",
              "      <th></th>\n",
              "      <th>MILES</th>\n",
              "      <th>PRICE($)</th>\n",
              "    </tr>\n",
              "  </thead>\n",
              "  <tbody>\n",
              "    <tr>\n",
              "      <th>count</th>\n",
              "      <td>1155.000000</td>\n",
              "      <td>1059.000000</td>\n",
              "    </tr>\n",
              "    <tr>\n",
              "      <th>mean</th>\n",
              "      <td>10.566840</td>\n",
              "      <td>16.379131</td>\n",
              "    </tr>\n",
              "    <tr>\n",
              "      <th>std</th>\n",
              "      <td>21.579106</td>\n",
              "      <td>9.051393</td>\n",
              "    </tr>\n",
              "    <tr>\n",
              "      <th>min</th>\n",
              "      <td>0.500000</td>\n",
              "      <td>3.000000</td>\n",
              "    </tr>\n",
              "    <tr>\n",
              "      <th>25%</th>\n",
              "      <td>2.900000</td>\n",
              "      <td>9.000000</td>\n",
              "    </tr>\n",
              "    <tr>\n",
              "      <th>50%</th>\n",
              "      <td>6.000000</td>\n",
              "      <td>13.500000</td>\n",
              "    </tr>\n",
              "    <tr>\n",
              "      <th>75%</th>\n",
              "      <td>10.400000</td>\n",
              "      <td>22.500000</td>\n",
              "    </tr>\n",
              "    <tr>\n",
              "      <th>max</th>\n",
              "      <td>310.300000</td>\n",
              "      <td>67.500000</td>\n",
              "    </tr>\n",
              "  </tbody>\n",
              "</table>\n",
              "</div>"
            ],
            "text/plain": [
              "             MILES     PRICE($)\n",
              "count  1155.000000  1059.000000\n",
              "mean     10.566840    16.379131\n",
              "std      21.579106     9.051393\n",
              "min       0.500000     3.000000\n",
              "25%       2.900000     9.000000\n",
              "50%       6.000000    13.500000\n",
              "75%      10.400000    22.500000\n",
              "max     310.300000    67.500000"
            ]
          },
          "metadata": {
            "tags": []
          },
          "execution_count": 33
        }
      ]
    },
    {
      "cell_type": "markdown",
      "metadata": {
        "id": "giSdptrRHfr7"
      },
      "source": [
        "**9. Drop the missing values and store data in a new dataframe**"
      ]
    },
    {
      "cell_type": "code",
      "metadata": {
        "id": "2_TxCgx5Hf6W"
      },
      "source": [
        "df = uber.dropna()\n",
        "#dropna() method is used to drop missing values and dataframe is stored in new dataframe called df."
      ],
      "execution_count": null,
      "outputs": []
    },
    {
      "cell_type": "code",
      "metadata": {
        "colab": {
          "base_uri": "https://localhost:8080/"
        },
        "id": "gBL5MVviI5wE",
        "outputId": "d307413e-fc2e-47e3-f79a-2c799866a0ae"
      },
      "source": [
        "df.isnull().sum()"
      ],
      "execution_count": null,
      "outputs": [
        {
          "output_type": "execute_result",
          "data": {
            "text/plain": [
              "START_DATE*    0\n",
              "END_DATE*      0\n",
              "CATEGORY*      0\n",
              "START*         0\n",
              "STOP*          0\n",
              "MILES*         0\n",
              "PURPOSE*       0\n",
              "CAB_TYPE*      0\n",
              "PRICE($)*      0\n",
              "PAYMENT*       0\n",
              "dtype: int64"
            ]
          },
          "metadata": {
            "tags": []
          },
          "execution_count": 20
        }
      ]
    },
    {
      "cell_type": "markdown",
      "metadata": {
        "id": "kUXGIi5LHgG1"
      },
      "source": [
        "**10. Checking total number of unique start locations.**"
      ]
    },
    {
      "cell_type": "code",
      "metadata": {
        "colab": {
          "base_uri": "https://localhost:8080/"
        },
        "id": "p1XD9h9rHgTt",
        "outputId": "2bac4f16-e7e4-43c1-ccbf-abdff1609d82"
      },
      "source": [
        "df['START'].unique()"
      ],
      "execution_count": null,
      "outputs": [
        {
          "output_type": "execute_result",
          "data": {
            "text/plain": [
              "array(['Fort Pierce', 'West Palm Beach', 'Cary', 'Jamaica', 'New York',\n",
              "       'Elmhurst', 'Midtown', 'East Harlem', 'Flatiron District',\n",
              "       'Midtown East', 'Lower Manhattan', 'Hudson Square',\n",
              "       \"Hell's Kitchen\", 'Downtown', 'Gulfton', 'Houston', 'Eagan Park',\n",
              "       'Morrisville', 'Durham', 'Lake Wellingborough',\n",
              "       'Fayetteville Street', 'Raleigh', 'Hazelwood', 'Whitebridge',\n",
              "       'Fairmont', 'Meredith Townes', 'Apex', 'Chapel Hill', 'Northwoods',\n",
              "       'Edgehill Farms', 'Eastgate', 'East Elmhurst', 'Long Island City',\n",
              "       'Katunayaka', 'Colombo', 'Nugegoda', 'Unknown Location',\n",
              "       'Islamabad', 'R?walpindi', 'Noorpur Shahan', 'Preston',\n",
              "       'Heritage Pines', 'Tanglewood', 'Waverly Place', 'Wayne Ridge',\n",
              "       'Westpark Place', 'East Austin', 'The Drag', 'Georgian Acres',\n",
              "       'North Austin', 'West University', 'Austin', 'Katy', 'Sharpstown',\n",
              "       'Sugar Land', 'Galveston', 'Port Bolivar', 'Washington Avenue',\n",
              "       'Briar Meadow', 'Latta', 'Jacksonville', 'Lake Reams', 'Orlando',\n",
              "       'Kissimmee', 'Daytona Beach', 'Florence', 'Meredith',\n",
              "       'Holly Springs', 'Chessington', 'Burtrose', 'Parkway', 'Mcvan',\n",
              "       'Capitol One', 'Seattle', 'Redmond', 'Bellevue', 'San Francisco',\n",
              "       'Palo Alto', 'Sunnyvale', 'Menlo Park', 'Newark', 'Old City',\n",
              "       'Savon Height', 'Kilarney Woods', 'Townes at Everett Crossing',\n",
              "       'Huntington Woods', 'Weston', 'Medical Centre', 'Rose Hill',\n",
              "       'Soho', 'Tribeca', 'Financial District', 'Emeryville', 'Berkeley',\n",
              "       'Oakland', 'Kenner', 'CBD', 'Lower Garden District', 'Storyville',\n",
              "       'New Orleans', 'Chalmette', 'Arabi', 'Pontchartrain Shores',\n",
              "       'Metairie', 'Parkwood', 'Banner Elk', 'Stonewater',\n",
              "       'Winston Salem', 'Asheville', 'Topton', 'Renaissance',\n",
              "       'Santa Clara', 'Ingleside', 'West Berkeley', 'Mountain View',\n",
              "       'El Cerrito', 'Krendle Woods', 'Fuquay-Varina', 'Rawalpindi',\n",
              "       'Lahore', 'Karachi', 'Katunayake', 'Gampaha'], dtype=object)"
            ]
          },
          "metadata": {
            "tags": []
          },
          "execution_count": 36
        }
      ]
    },
    {
      "cell_type": "markdown",
      "metadata": {
        "id": "ICxRy2cNHgh7"
      },
      "source": [
        "**11. Count the total nos of Unique locations.**"
      ]
    },
    {
      "cell_type": "code",
      "metadata": {
        "colab": {
          "base_uri": "https://localhost:8080/"
        },
        "id": "KR3-knIsHgvj",
        "outputId": "8985a689-76c7-4c5e-de97-b53e14e1bc24"
      },
      "source": [
        "n = len(pd.unique(uber['START']))\n",
        "n"
      ],
      "execution_count": null,
      "outputs": [
        {
          "output_type": "execute_result",
          "data": {
            "text/plain": [
              "176"
            ]
          },
          "metadata": {
            "tags": []
          },
          "execution_count": 50
        }
      ]
    },
    {
      "cell_type": "markdown",
      "metadata": {
        "id": "jhCuMd5IHg9E"
      },
      "source": [
        "**12. Checking total number of unique stop locations**"
      ]
    },
    {
      "cell_type": "code",
      "metadata": {
        "colab": {
          "base_uri": "https://localhost:8080/"
        },
        "id": "Tl3CVdCHHhJt",
        "outputId": "b2e8757e-b021-485a-be84-2924a0abd97d"
      },
      "source": [
        "n = len(pd.unique(uber['STOP']))\n",
        "n"
      ],
      "execution_count": null,
      "outputs": [
        {
          "output_type": "execute_result",
          "data": {
            "text/plain": [
              "187"
            ]
          },
          "metadata": {
            "tags": []
          },
          "execution_count": 51
        }
      ]
    },
    {
      "cell_type": "markdown",
      "metadata": {
        "id": "9DT8yQEIHhXL"
      },
      "source": [
        "**13. Display all the Uber trips that has the starting point of San Francisco.**"
      ]
    },
    {
      "cell_type": "code",
      "metadata": {
        "colab": {
          "base_uri": "https://localhost:8080/",
          "height": 433
        },
        "id": "E-3U3H1sHhjt",
        "outputId": "33e31de4-191f-4176-ad80-be74dd460a88"
      },
      "source": [
        "Uber_San_Francisco = uber.loc[uber['START']=='San Francisco']\n",
        "Uber_San_Francisco"
      ],
      "execution_count": null,
      "outputs": [
        {
          "output_type": "execute_result",
          "data": {
            "text/html": [
              "<div>\n",
              "<style scoped>\n",
              "    .dataframe tbody tr th:only-of-type {\n",
              "        vertical-align: middle;\n",
              "    }\n",
              "\n",
              "    .dataframe tbody tr th {\n",
              "        vertical-align: top;\n",
              "    }\n",
              "\n",
              "    .dataframe thead th {\n",
              "        text-align: right;\n",
              "    }\n",
              "</style>\n",
              "<table border=\"1\" class=\"dataframe\">\n",
              "  <thead>\n",
              "    <tr style=\"text-align: right;\">\n",
              "      <th></th>\n",
              "      <th>START_DATE</th>\n",
              "      <th>END_DATE</th>\n",
              "      <th>CATEGORY</th>\n",
              "      <th>START</th>\n",
              "      <th>STOP</th>\n",
              "      <th>MILES</th>\n",
              "      <th>PURPOSE</th>\n",
              "      <th>CAB_TYPE</th>\n",
              "      <th>PRICE($)</th>\n",
              "      <th>PAYMENT</th>\n",
              "    </tr>\n",
              "  </thead>\n",
              "  <tbody>\n",
              "    <tr>\n",
              "      <th>362</th>\n",
              "      <td>2016-5-9 14:39</td>\n",
              "      <td>2016-5-9 15:06</td>\n",
              "      <td>Business</td>\n",
              "      <td>San Francisco</td>\n",
              "      <td>Palo Alto</td>\n",
              "      <td>20.5</td>\n",
              "      <td>Between Offices</td>\n",
              "      <td>UberX</td>\n",
              "      <td>16.0</td>\n",
              "      <td>Ola Money</td>\n",
              "    </tr>\n",
              "    <tr>\n",
              "      <th>440</th>\n",
              "      <td>2016-6-14 16:09</td>\n",
              "      <td>2016-6-14 16:39</td>\n",
              "      <td>Business</td>\n",
              "      <td>San Francisco</td>\n",
              "      <td>Emeryville</td>\n",
              "      <td>11.6</td>\n",
              "      <td>Meeting</td>\n",
              "      <td>Uber Green</td>\n",
              "      <td>11.0</td>\n",
              "      <td>Cash</td>\n",
              "    </tr>\n",
              "    <tr>\n",
              "      <th>836</th>\n",
              "      <td>2016-10-19 14:02</td>\n",
              "      <td>2016-10-19 14:31</td>\n",
              "      <td>Business</td>\n",
              "      <td>San Francisco</td>\n",
              "      <td>Berkeley</td>\n",
              "      <td>10.8</td>\n",
              "      <td>NaN</td>\n",
              "      <td>Uber Green</td>\n",
              "      <td>8.0</td>\n",
              "      <td>cash</td>\n",
              "    </tr>\n",
              "    <tr>\n",
              "      <th>917</th>\n",
              "      <td>2016-11-7 19:17</td>\n",
              "      <td>2016-11-7 19:57</td>\n",
              "      <td>Business</td>\n",
              "      <td>San Francisco</td>\n",
              "      <td>Berkeley</td>\n",
              "      <td>13.2</td>\n",
              "      <td>Between Offices</td>\n",
              "      <td>Uber Taxi</td>\n",
              "      <td>NaN</td>\n",
              "      <td>Ola Money</td>\n",
              "    </tr>\n",
              "    <tr>\n",
              "      <th>919</th>\n",
              "      <td>2016-11-8 12:16</td>\n",
              "      <td>2016-11-8 12:49</td>\n",
              "      <td>Business</td>\n",
              "      <td>San Francisco</td>\n",
              "      <td>Berkeley</td>\n",
              "      <td>11.3</td>\n",
              "      <td>Meeting</td>\n",
              "      <td>UberGo</td>\n",
              "      <td>7.0</td>\n",
              "      <td>Ola credit card</td>\n",
              "    </tr>\n",
              "    <tr>\n",
              "      <th>927</th>\n",
              "      <td>2016-11-9 18:40</td>\n",
              "      <td>2016-11-9 19:17</td>\n",
              "      <td>Business</td>\n",
              "      <td>San Francisco</td>\n",
              "      <td>Oakland</td>\n",
              "      <td>12.7</td>\n",
              "      <td>Customer Visit</td>\n",
              "      <td>Uber Green</td>\n",
              "      <td>29.5</td>\n",
              "      <td>Cash</td>\n",
              "    </tr>\n",
              "    <tr>\n",
              "      <th>933</th>\n",
              "      <td>2016-11-10 15:17</td>\n",
              "      <td>2016-11-10 15:22</td>\n",
              "      <td>Business</td>\n",
              "      <td>San Francisco</td>\n",
              "      <td>Oakland</td>\n",
              "      <td>9.9</td>\n",
              "      <td>Temporary Site</td>\n",
              "      <td>Uber Pool</td>\n",
              "      <td>13.5</td>\n",
              "      <td>Ola credit card</td>\n",
              "    </tr>\n",
              "    <tr>\n",
              "      <th>966</th>\n",
              "      <td>2016-11-15 20:44</td>\n",
              "      <td>2016-11-15 21:00</td>\n",
              "      <td>Business</td>\n",
              "      <td>San Francisco</td>\n",
              "      <td>Berkeley</td>\n",
              "      <td>11.8</td>\n",
              "      <td>Temporary Site</td>\n",
              "      <td>Uber Taxi</td>\n",
              "      <td>7.0</td>\n",
              "      <td>Ola credit card</td>\n",
              "    </tr>\n",
              "  </tbody>\n",
              "</table>\n",
              "</div>"
            ],
            "text/plain": [
              "           START_DATE          END_DATE  ... PRICE($)          PAYMENT\n",
              "362    2016-5-9 14:39    2016-5-9 15:06  ...     16.0        Ola Money\n",
              "440   2016-6-14 16:09   2016-6-14 16:39  ...     11.0             Cash\n",
              "836  2016-10-19 14:02  2016-10-19 14:31  ...      8.0             cash\n",
              "917   2016-11-7 19:17   2016-11-7 19:57  ...      NaN        Ola Money\n",
              "919   2016-11-8 12:16   2016-11-8 12:49  ...      7.0  Ola credit card\n",
              "927   2016-11-9 18:40   2016-11-9 19:17  ...     29.5             Cash\n",
              "933  2016-11-10 15:17  2016-11-10 15:22  ...     13.5  Ola credit card\n",
              "966  2016-11-15 20:44  2016-11-15 21:00  ...      7.0  Ola credit card\n",
              "\n",
              "[8 rows x 10 columns]"
            ]
          },
          "metadata": {
            "tags": []
          },
          "execution_count": 61
        }
      ]
    },
    {
      "cell_type": "markdown",
      "metadata": {
        "id": "L8gB5z5HHhwJ"
      },
      "source": [
        "**14. What is the most popular starting point for the Uber drivers?**"
      ]
    },
    {
      "cell_type": "code",
      "metadata": {
        "colab": {
          "base_uri": "https://localhost:8080/"
        },
        "id": "DXwFVztDHh8B",
        "outputId": "8bdd4ac2-8877-4757-a813-9fea000c3ed1"
      },
      "source": [
        "uber['START'].value_counts()"
      ],
      "execution_count": null,
      "outputs": [
        {
          "output_type": "execute_result",
          "data": {
            "text/plain": [
              "Cary                          201\n",
              "Unknown Location              148\n",
              "Morrisville                    85\n",
              "Whitebridge                    68\n",
              "Islamabad                      57\n",
              "                             ... \n",
              "College Avenue                  1\n",
              "Almond                          1\n",
              "Parkwood                        1\n",
              "Convention Center District      1\n",
              "Winston Salem                   1\n",
              "Name: START, Length: 176, dtype: int64"
            ]
          },
          "metadata": {
            "tags": []
          },
          "execution_count": 62
        }
      ]
    },
    {
      "cell_type": "markdown",
      "metadata": {
        "id": "8pQRPyK3HiKP"
      },
      "source": [
        "**15. What is the most popular dropping point for the Uber drivers?**"
      ]
    },
    {
      "cell_type": "code",
      "metadata": {
        "colab": {
          "base_uri": "https://localhost:8080/"
        },
        "id": "UHBGxx3MHiV4",
        "outputId": "270abcc6-ad4b-4496-eec5-d9c706b6aa6d"
      },
      "source": [
        "uber['STOP'].value_counts()"
      ],
      "execution_count": null,
      "outputs": [
        {
          "output_type": "execute_result",
          "data": {
            "text/plain": [
              "Cary                 203\n",
              "Unknown Location     149\n",
              "Morrisville           84\n",
              "Whitebridge           65\n",
              "Islamabad             58\n",
              "                    ... \n",
              "Bellevue               1\n",
              "Katy                   1\n",
              "Washington Avenue      1\n",
              "Ilukwatta              1\n",
              "Winston Salem          1\n",
              "Name: STOP, Length: 187, dtype: int64"
            ]
          },
          "metadata": {
            "tags": []
          },
          "execution_count": 63
        }
      ]
    },
    {
      "cell_type": "markdown",
      "metadata": {
        "id": "A3miiNjtHiib"
      },
      "source": [
        "**16. List the most frequent route taken by Uber drivers.**"
      ]
    },
    {
      "cell_type": "code",
      "metadata": {
        "colab": {
          "base_uri": "https://localhost:8080/",
          "height": 111
        },
        "id": "irJ-Ygt-Hiun",
        "outputId": "ff75e3f5-b66c-4dda-8769-5b571d7b4861"
      },
      "source": [
        "frequent_route = pd.DataFrame(df.groupby('START')['STOP'].value_counts().sort_values(ascending=False).head(1))\n",
        "frequent_route"
      ],
      "execution_count": null,
      "outputs": [
        {
          "output_type": "execute_result",
          "data": {
            "text/html": [
              "<div>\n",
              "<style scoped>\n",
              "    .dataframe tbody tr th:only-of-type {\n",
              "        vertical-align: middle;\n",
              "    }\n",
              "\n",
              "    .dataframe tbody tr th {\n",
              "        vertical-align: top;\n",
              "    }\n",
              "\n",
              "    .dataframe thead th {\n",
              "        text-align: right;\n",
              "    }\n",
              "</style>\n",
              "<table border=\"1\" class=\"dataframe\">\n",
              "  <thead>\n",
              "    <tr style=\"text-align: right;\">\n",
              "      <th></th>\n",
              "      <th></th>\n",
              "      <th>STOP</th>\n",
              "    </tr>\n",
              "    <tr>\n",
              "      <th>START</th>\n",
              "      <th>STOP</th>\n",
              "      <th></th>\n",
              "    </tr>\n",
              "  </thead>\n",
              "  <tbody>\n",
              "    <tr>\n",
              "      <th>Cary</th>\n",
              "      <th>Morrisville</th>\n",
              "      <td>48</td>\n",
              "    </tr>\n",
              "  </tbody>\n",
              "</table>\n",
              "</div>"
            ],
            "text/plain": [
              "                   STOP\n",
              "START STOP             \n",
              "Cary  Morrisville    48"
            ]
          },
          "metadata": {
            "tags": []
          },
          "execution_count": 66
        }
      ]
    },
    {
      "cell_type": "markdown",
      "metadata": {
        "id": "3QZWbBRcHi6q"
      },
      "source": [
        "**17. Display all types of purposes for the trip in an array.**"
      ]
    },
    {
      "cell_type": "code",
      "metadata": {
        "colab": {
          "base_uri": "https://localhost:8080/"
        },
        "id": "bEOEup3bHjJQ",
        "outputId": "dc2d0f6d-88e3-436b-e2a3-a8cf88fec0ce"
      },
      "source": [
        "purpose = pd.unique(df['PURPOSE'])\n",
        "purpose"
      ],
      "execution_count": null,
      "outputs": [
        {
          "output_type": "execute_result",
          "data": {
            "text/plain": [
              "array(['Meal/Entertain', 'Errand/Supplies', 'Meeting', 'Customer Visit',\n",
              "       'Temporary Site', 'Between Offices', 'Charity ($)', 'Moving',\n",
              "       'Airport/Travel'], dtype=object)"
            ]
          },
          "metadata": {
            "tags": []
          },
          "execution_count": 75
        }
      ]
    },
    {
      "cell_type": "markdown",
      "metadata": {
        "id": "ab0m0xlzHjXi"
      },
      "source": [
        "**18. Plot a bar graph of Payment vs Price.**"
      ]
    },
    {
      "cell_type": "code",
      "metadata": {
        "colab": {
          "base_uri": "https://localhost:8080/",
          "height": 296
        },
        "id": "xK7VAvTEHjuD",
        "outputId": "9da93e1b-0325-4e3e-a2ee-da8df1d4a244"
      },
      "source": [
        "sns.barplot(x = 'PAYMENT' , y = 'PRICE($)', data = uber  , ci = None)"
      ],
      "execution_count": null,
      "outputs": [
        {
          "output_type": "execute_result",
          "data": {
            "text/plain": [
              "<matplotlib.axes._subplots.AxesSubplot at 0x7f96efbc6ed0>"
            ]
          },
          "metadata": {
            "tags": []
          },
          "execution_count": 111
        },
        {
          "output_type": "display_data",
          "data": {
            "image/png": "[encoded data removed]",
            "text/plain": [
              "<Figure size 432x288 with 1 Axes>"
            ]
          },
          "metadata": {
            "tags": [],
            "needs_background": "light"
          }
        }
      ]
    },
    {
      "cell_type": "markdown",
      "metadata": {
        "id": "DQN9b8cYVrdw"
      },
      "source": [
        "**19.  Plot a bar graph of Purpose vs Miles(Distance).**"
      ]
    },
    {
      "cell_type": "code",
      "metadata": {
        "colab": {
          "base_uri": "https://localhost:8080/",
          "height": 296
        },
        "id": "yqnTCOd_Vruj",
        "outputId": "5d9fae7b-1762-4556-a160-5397204ea0f1"
      },
      "source": [
        "sns.barplot(x = 'MILES' , y= 'PURPOSE' , data = uber , estimator = np.sum , ci = None)"
      ],
      "execution_count": null,
      "outputs": [
        {
          "output_type": "execute_result",
          "data": {
            "text/plain": [
              "<matplotlib.axes._subplots.AxesSubplot at 0x7f96efc61490>"
            ]
          },
          "metadata": {
            "tags": []
          },
          "execution_count": 110
        },
        {
          "output_type": "display_data",
          "data": {
            "image/png": "[encoded data removed]",
            "text/plain": [
              "<Figure size 432x288 with 1 Axes>"
            ]
          },
          "metadata": {
            "tags": [],
            "needs_background": "light"
          }
        }
      ]
    },
    {
      "cell_type": "markdown",
      "metadata": {
        "id": "zT-ye5PTVr7Q"
      },
      "source": [
        "**20. Display a dataframe of Purpose and the total distance travelled for that particular Purpose**."
      ]
    },
    {
      "cell_type": "code",
      "metadata": {
        "colab": {
          "base_uri": "https://localhost:8080/",
          "height": 390
        },
        "id": "7kBfqYplVsJJ",
        "outputId": "ce35a1e9-9ddf-4b4e-ac4c-0b6210ea571d"
      },
      "source": [
        "purpose_distance = pd.DataFrame(uber.groupby('PURPOSE')['MILES'].sum())\n",
        "purpose_distance"
      ],
      "execution_count": null,
      "outputs": [
        {
          "output_type": "execute_result",
          "data": {
            "text/html": [
              "<div>\n",
              "<style scoped>\n",
              "    .dataframe tbody tr th:only-of-type {\n",
              "        vertical-align: middle;\n",
              "    }\n",
              "\n",
              "    .dataframe tbody tr th {\n",
              "        vertical-align: top;\n",
              "    }\n",
              "\n",
              "    .dataframe thead th {\n",
              "        text-align: right;\n",
              "    }\n",
              "</style>\n",
              "<table border=\"1\" class=\"dataframe\">\n",
              "  <thead>\n",
              "    <tr style=\"text-align: right;\">\n",
              "      <th></th>\n",
              "      <th>MILES</th>\n",
              "    </tr>\n",
              "    <tr>\n",
              "      <th>PURPOSE</th>\n",
              "      <th></th>\n",
              "    </tr>\n",
              "  </thead>\n",
              "  <tbody>\n",
              "    <tr>\n",
              "      <th>Airport/Travel</th>\n",
              "      <td>16.5</td>\n",
              "    </tr>\n",
              "    <tr>\n",
              "      <th>Between Offices</th>\n",
              "      <td>197.0</td>\n",
              "    </tr>\n",
              "    <tr>\n",
              "      <th>Charity ($)</th>\n",
              "      <td>15.1</td>\n",
              "    </tr>\n",
              "    <tr>\n",
              "      <th>Commute</th>\n",
              "      <td>180.2</td>\n",
              "    </tr>\n",
              "    <tr>\n",
              "      <th>Customer Visit</th>\n",
              "      <td>2089.5</td>\n",
              "    </tr>\n",
              "    <tr>\n",
              "      <th>Errand/Supplies</th>\n",
              "      <td>508.0</td>\n",
              "    </tr>\n",
              "    <tr>\n",
              "      <th>Meal/Entertain</th>\n",
              "      <td>911.7</td>\n",
              "    </tr>\n",
              "    <tr>\n",
              "      <th>Meeting</th>\n",
              "      <td>2851.3</td>\n",
              "    </tr>\n",
              "    <tr>\n",
              "      <th>Moving</th>\n",
              "      <td>18.2</td>\n",
              "    </tr>\n",
              "    <tr>\n",
              "      <th>Temporary Site</th>\n",
              "      <td>523.7</td>\n",
              "    </tr>\n",
              "  </tbody>\n",
              "</table>\n",
              "</div>"
            ],
            "text/plain": [
              "                  MILES\n",
              "PURPOSE                \n",
              "Airport/Travel     16.5\n",
              "Between Offices   197.0\n",
              "Charity ($)        15.1\n",
              "Commute           180.2\n",
              "Customer Visit   2089.5\n",
              "Errand/Supplies   508.0\n",
              "Meal/Entertain    911.7\n",
              "Meeting          2851.3\n",
              "Moving             18.2\n",
              "Temporary Site    523.7"
            ]
          },
          "metadata": {
            "tags": []
          },
          "execution_count": 112
        }
      ]
    },
    {
      "cell_type": "markdown",
      "metadata": {
        "id": "rGLFPsV-VsVH"
      },
      "source": [
        "**21. Plot Category vs numbers of trips based on Category.**"
      ]
    },
    {
      "cell_type": "code",
      "metadata": {
        "colab": {
          "base_uri": "https://localhost:8080/"
        },
        "id": "JX09aPaiVsk1",
        "outputId": "3e15f7aa-1439-4dca-d868-96942b10690f"
      },
      "source": [
        "count = uber['CATEGORY'].value_counts()\n",
        "count"
      ],
      "execution_count": null,
      "outputs": [
        {
          "output_type": "execute_result",
          "data": {
            "text/plain": [
              "Business    1078\n",
              "Personal      77\n",
              "Name: CATEGORY, dtype: int64"
            ]
          },
          "metadata": {
            "tags": []
          },
          "execution_count": 118
        }
      ]
    },
    {
      "cell_type": "code",
      "metadata": {
        "colab": {
          "base_uri": "https://localhost:8080/",
          "height": 296
        },
        "id": "Q-OOYnl6deoQ",
        "outputId": "4790d0a1-bcc4-4c7d-a065-0d7238a01d7e"
      },
      "source": [
        "sns.countplot(x = uber['CATEGORY']) "
      ],
      "execution_count": null,
      "outputs": [
        {
          "output_type": "execute_result",
          "data": {
            "text/plain": [
              "<matplotlib.axes._subplots.AxesSubplot at 0x7f96efac31d0>"
            ]
          },
          "metadata": {
            "tags": []
          },
          "execution_count": 121
        },
        {
          "output_type": "display_data",
          "data": {
            "image/png": "[encoded data removed]",
            "text/plain": [
              "<Figure size 432x288 with 1 Axes>"
            ]
          },
          "metadata": {
            "tags": [],
            "needs_background": "light"
          }
        }
      ]
    },
    {
      "cell_type": "markdown",
      "metadata": {
        "id": "3pg6mQ0RVs0V"
      },
      "source": [
        "**22. Checking the types of Cab.**"
      ]
    },
    {
      "cell_type": "code",
      "metadata": {
        "colab": {
          "base_uri": "https://localhost:8080/"
        },
        "id": "AZA7JPIxVtEL",
        "outputId": "02bb84e1-e6dc-4bcd-c1cb-31d8f80b14ae"
      },
      "source": [
        "uber['CAB_TYPE'].unique()"
      ],
      "execution_count": null,
      "outputs": [
        {
          "output_type": "execute_result",
          "data": {
            "text/plain": [
              "array(['UberX', 'Uber Comfort', 'UberAuto', 'Go Intercity',\n",
              "       'Uber Black SUV', 'Uber Green', 'Uber Pool', 'Uber Black',\n",
              "       'Uber Lux', 'Uber Taxi', 'UberXL', 'UberGo', 'Premier'],\n",
              "      dtype=object)"
            ]
          },
          "metadata": {
            "tags": []
          },
          "execution_count": 128
        }
      ]
    },
    {
      "cell_type": "markdown",
      "metadata": {
        "id": "klW-q7maf75h"
      },
      "source": [
        "**23. Plot Cab type vs their respected miles.**"
      ]
    },
    {
      "cell_type": "code",
      "metadata": {
        "colab": {
          "base_uri": "https://localhost:8080/",
          "height": 296
        },
        "id": "DAHfFP3tf8KK",
        "outputId": "eb6f6d46-69d0-427b-b0da-9ccd5bb78a69"
      },
      "source": [
        "sns.barplot(x = 'MILES', y = 'CAB_TYPE' , data = uber , estimator = np.sum , ci = None)"
      ],
      "execution_count": null,
      "outputs": [
        {
          "output_type": "execute_result",
          "data": {
            "text/plain": [
              "<matplotlib.axes._subplots.AxesSubplot at 0x7f96ef9278d0>"
            ]
          },
          "metadata": {
            "tags": []
          },
          "execution_count": 125
        },
        {
          "output_type": "display_data",
          "data": {
            "image/png": "[encoded data removed]",
            "text/plain": [
              "<Figure size 432x288 with 1 Axes>"
            ]
          },
          "metadata": {
            "tags": [],
            "needs_background": "light"
          }
        }
      ]
    },
    {
      "cell_type": "markdown",
      "metadata": {
        "id": "O0FsfJIRf8Xt"
      },
      "source": [
        "**24. Display a dataframe of Cab type and the total distance travelled.**"
      ]
    },
    {
      "cell_type": "code",
      "metadata": {
        "colab": {
          "base_uri": "https://localhost:8080/",
          "height": 483
        },
        "id": "cRBwdayXf8m0",
        "outputId": "640a2e4c-77a7-4f3e-e02a-7c862f1aeb3d"
      },
      "source": [
        "max = pd.DataFrame(uber.groupby('CAB_TYPE')['MILES'].sum())\n",
        "max"
      ],
      "execution_count": null,
      "outputs": [
        {
          "output_type": "execute_result",
          "data": {
            "text/html": [
              "<div>\n",
              "<style scoped>\n",
              "    .dataframe tbody tr th:only-of-type {\n",
              "        vertical-align: middle;\n",
              "    }\n",
              "\n",
              "    .dataframe tbody tr th {\n",
              "        vertical-align: top;\n",
              "    }\n",
              "\n",
              "    .dataframe thead th {\n",
              "        text-align: right;\n",
              "    }\n",
              "</style>\n",
              "<table border=\"1\" class=\"dataframe\">\n",
              "  <thead>\n",
              "    <tr style=\"text-align: right;\">\n",
              "      <th></th>\n",
              "      <th>MILES</th>\n",
              "    </tr>\n",
              "    <tr>\n",
              "      <th>CAB_TYPE</th>\n",
              "      <th></th>\n",
              "    </tr>\n",
              "  </thead>\n",
              "  <tbody>\n",
              "    <tr>\n",
              "      <th>Go Intercity</th>\n",
              "      <td>3265.8</td>\n",
              "    </tr>\n",
              "    <tr>\n",
              "      <th>Premier</th>\n",
              "      <td>65.1</td>\n",
              "    </tr>\n",
              "    <tr>\n",
              "      <th>Uber Black</th>\n",
              "      <td>57.3</td>\n",
              "    </tr>\n",
              "    <tr>\n",
              "      <th>Uber Black SUV</th>\n",
              "      <td>1520.6</td>\n",
              "    </tr>\n",
              "    <tr>\n",
              "      <th>Uber Comfort</th>\n",
              "      <td>1395.9</td>\n",
              "    </tr>\n",
              "    <tr>\n",
              "      <th>Uber Green</th>\n",
              "      <td>860.4</td>\n",
              "    </tr>\n",
              "    <tr>\n",
              "      <th>Uber Lux</th>\n",
              "      <td>330.7</td>\n",
              "    </tr>\n",
              "    <tr>\n",
              "      <th>Uber Pool</th>\n",
              "      <td>746.9</td>\n",
              "    </tr>\n",
              "    <tr>\n",
              "      <th>Uber Taxi</th>\n",
              "      <td>1449.3</td>\n",
              "    </tr>\n",
              "    <tr>\n",
              "      <th>UberAuto</th>\n",
              "      <td>656.2</td>\n",
              "    </tr>\n",
              "    <tr>\n",
              "      <th>UberGo</th>\n",
              "      <td>262.2</td>\n",
              "    </tr>\n",
              "    <tr>\n",
              "      <th>UberX</th>\n",
              "      <td>1411.9</td>\n",
              "    </tr>\n",
              "    <tr>\n",
              "      <th>UberXL</th>\n",
              "      <td>182.4</td>\n",
              "    </tr>\n",
              "  </tbody>\n",
              "</table>\n",
              "</div>"
            ],
            "text/plain": [
              "                 MILES\n",
              "CAB_TYPE              \n",
              "Go Intercity    3265.8\n",
              "Premier           65.1\n",
              "Uber Black        57.3\n",
              "Uber Black SUV  1520.6\n",
              "Uber Comfort    1395.9\n",
              "Uber Green       860.4\n",
              "Uber Lux         330.7\n",
              "Uber Pool        746.9\n",
              "Uber Taxi       1449.3\n",
              "UberAuto         656.2\n",
              "UberGo           262.2\n",
              "UberX           1411.9\n",
              "UberXL           182.4"
            ]
          },
          "metadata": {
            "tags": []
          },
          "execution_count": 130
        }
      ]
    },
    {
      "cell_type": "markdown",
      "metadata": {
        "id": "65bS4VW4f80I"
      },
      "source": [
        "**25.  What is proportion of miles that are covered as Business trips and what is the proportion of miles that are covered as Personal trips?**"
      ]
    },
    {
      "cell_type": "code",
      "metadata": {
        "colab": {
          "base_uri": "https://localhost:8080/"
        },
        "id": "QIUG5e6gf9Cf",
        "outputId": "5f459b85-f553-42d6-87e2-dac8aac4be12"
      },
      "source": [
        "category_prop  = uber.groupby('CATEGORY') ['MILES'].sum()\n",
        "category_prop"
      ],
      "execution_count": null,
      "outputs": [
        {
          "output_type": "execute_result",
          "data": {
            "text/plain": [
              "CATEGORY\n",
              "Business    11487.0\n",
              "Personal      717.7\n",
              "Name: MILES, dtype: float64"
            ]
          },
          "metadata": {
            "tags": []
          },
          "execution_count": 137
        }
      ]
    },
    {
      "cell_type": "code",
      "metadata": {
        "colab": {
          "base_uri": "https://localhost:8080/"
        },
        "id": "0mzbggfrj4WC",
        "outputId": "6fce2b7f-26cf-474b-a982-74eec7116533"
      },
      "source": [
        "total_prop = round(category_prop[0] + category_prop[1])\n",
        "total_prop"
      ],
      "execution_count": null,
      "outputs": [
        {
          "output_type": "execute_result",
          "data": {
            "text/plain": [
              "12205"
            ]
          },
          "metadata": {
            "tags": []
          },
          "execution_count": 146
        }
      ]
    },
    {
      "cell_type": "code",
      "metadata": {
        "colab": {
          "base_uri": "https://localhost:8080/"
        },
        "id": "xpf6yIjdlbzP",
        "outputId": "8a8b0300-2a4c-4c2b-903e-330ccb274440"
      },
      "source": [
        "#business_prop = business covered trips/ total prop\n",
        "business_prop = round(category_prop[0]/total_prop)\n",
        "business_prop"
      ],
      "execution_count": null,
      "outputs": [
        {
          "output_type": "execute_result",
          "data": {
            "text/plain": [
              "1"
            ]
          },
          "metadata": {
            "tags": []
          },
          "execution_count": 147
        }
      ]
    },
    {
      "cell_type": "code",
      "metadata": {
        "colab": {
          "base_uri": "https://localhost:8080/"
        },
        "id": "ymkZ64Ekmf3U",
        "outputId": "3cb227dc-31eb-4128-e6d8-2ae61d2b8449"
      },
      "source": [
        "#personal_prop = personal covered trips / total prop\n",
        "personal_prop = round(category_prop[1]/total_prop)\n",
        "personal_prop"
      ],
      "execution_count": null,
      "outputs": [
        {
          "output_type": "execute_result",
          "data": {
            "text/plain": [
              "0"
            ]
          },
          "metadata": {
            "tags": []
          },
          "execution_count": 149
        }
      ]
    }
  ]
}